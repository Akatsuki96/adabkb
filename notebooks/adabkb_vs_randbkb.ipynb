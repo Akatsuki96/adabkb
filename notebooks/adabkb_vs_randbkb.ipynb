{
 "metadata": {
  "language_info": {
   "codemirror_mode": {
    "name": "ipython",
    "version": 3
   },
   "file_extension": ".py",
   "mimetype": "text/x-python",
   "name": "python",
   "nbconvert_exporter": "python",
   "pygments_lexer": "ipython3",
   "version": "3.7.3"
  },
  "orig_nbformat": 4,
  "kernelspec": {
   "name": "python3",
   "display_name": "Python 3.7.3 64-bit ('mlenv': venv)"
  },
  "interpreter": {
   "hash": "f26523b67ea2835ee6a77b36d2cc412a491957c6cdc7ecd6fb71972c20460352"
  }
 },
 "nbformat": 4,
 "nbformat_minor": 2,
 "cells": [
  {
   "cell_type": "code",
   "execution_count": 10,
   "metadata": {},
   "outputs": [],
   "source": [
    "from batchbkb.bkb_lib import BKB\n",
    "from sklearn.gaussian_process.kernels import RBF\n",
    "from adabkb import AdaBKB\n",
    "from adabkb.options import OptimizerOptions\n",
    "from benchmark_functions import Ackley\n",
    "from numpy.random import RandomState\n",
    "\n",
    "import numpy as np\n",
    "import matplotlib.pyplot as plt"
   ]
  },
  {
   "source": [
    "## Common Functions"
   ],
   "cell_type": "markdown",
   "metadata": {}
  },
  {
   "cell_type": "code",
   "execution_count": 9,
   "metadata": {},
   "outputs": [],
   "source": [
    "def plot_comparison(title, xlabel, ylabel, adabkb, rbkbs):\n",
    "    fig, ax = plt.subplots()\n",
    "    ax.set_title(title)\n",
    "    ax.set_xlabel(xlabel)\n",
    "    ax.set_ylabel(ylabel)\n",
    "    ax.plot(range(adabkb.shape[0]), adabkb, '-',label=\"adabkb\")\n",
    "    for (lab, rbkb) in rbkbs:\n",
    "        ax.plot(range(rbkb.shape[0]), rbkb, '-', label=lab)\n",
    "    ax.legend(loc=\"upper right\")\n",
    "\n",
    "def plot_regrets(adabkb_regret, random_bkb_regrets):\n",
    "    plot_comparison(\"Average regret\", \"time step\", \"average regret\", adabkb_regret, random_bkb_regrets)\n",
    "\n",
    "def plot_ctime(adabkb_ctime, random_bkb_ctime):\n",
    "    plot_comparison(\"Cumulative time\", \"time step\", \"time(s)\", adabkb_ctime, random_bkb_ctime)\n"
   ]
  },
  {
   "cell_type": "code",
   "execution_count": 19,
   "metadata": {},
   "outputs": [],
   "source": [
    "rnd_state = RandomState(42)\n",
    "lam = 0.01\n",
    "d = 4\n",
    "sigma = 1.0\n",
    "noise_var = lam**2\n",
    "F = 1.0\n",
    "qbar = 2.0\n",
    "delta = 1e-5\n",
    "dot = RBF(sigma)\n",
    "T = 700\n",
    "h_max = 6\n",
    "fun = Ackley(d, (lam, rnd_state))\n",
    "main_path = \"./out/{}\".format(fun.name)\n",
    "os.makedirs(main_path, exist_ok=True)\n",
    "with open(main_path + \"/experiment_info.log\", \"w\") as f:\n",
    "    f.write(\"[++] function: {}\\n\".format(fun.name))\n",
    "    f.write(\"\\t[--] d: {}\\n\".format(fun.search_space.shape[0]))\n",
    "    f.write(\"\\t[--] minimizers: {}\\n\".format(fun.global_min[0]))\n",
    "    f.write(\"\\t[--] minimum: {}\\n\".format(fun.global_min[1]))\n",
    "    f.write(\"\\t[--] search space: {}\\n\".format(list(fun.search_space)))\n",
    "    f.write(\"[++] parameters\\n\")\n",
    "    f.write(\"\\t[--] sigma: {}\\n\".format(sigma))\n",
    "    f.write(\"\\t[--] lambda: {} (variance: {})\\n\".format(lam, noise_var))\n",
    "    f.write(\"\\t[--] |f|: {}\\tqbar: {}\\n\".format(F,qbar))\n",
    "    f.write(\"\\t[--] delta: {}\\n\".format(delta))\n",
    "    f.write(\"\\t[--] budget: {}\\th_max: {}\\n\".format(T, h_max))"
   ]
  },
  {
   "source": [
    "## Random BKB"
   ],
   "cell_type": "markdown",
   "metadata": {}
  },
  {
   "cell_type": "code",
   "execution_count": 23,
   "metadata": {},
   "outputs": [
    {
     "output_type": "stream",
     "name": "stdout",
     "text": [
      "[--] s: 10\n[--] s: 5633\n[--] s: 11257\n[--] s: 16881\n[--] s: 22505\n[--] s: 28129\n[--] s: 33753\n[--] s: 39377\n[--] s: 45001\n[--] s: 50625\n"
     ]
    }
   ],
   "source": [
    "ns = [int(x) for x in np.linspace(10, 15**4, 10)]\n",
    "for s in ns:\n",
    "    print(\"[--] s: {}\".format(s))\n"
   ]
  }
 ]
}